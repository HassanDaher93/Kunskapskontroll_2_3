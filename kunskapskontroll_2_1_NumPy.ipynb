{
 "cells": [
  {
   "cell_type": "markdown",
   "id": "dacf74e6",
   "metadata": {},
   "source": [
    "# NumPy"
   ]
  },
  {
   "cell_type": "markdown",
   "id": "01b2bf34",
   "metadata": {
    "jupyter": {
     "source_hidden": true
    }
   },
   "source": [
    "Read the links: https://numpy.org/doc/stable/user/quickstart.html  and https://numpy.org/doc/stable/user/basics.broadcasting.html  before solving the exercises. "
   ]
  },
  {
   "cell_type": "code",
   "execution_count": 8,
   "id": "1f79e4a6",
   "metadata": {},
   "outputs": [],
   "source": [
    "import numpy as np"
   ]
  },
  {
   "cell_type": "markdown",
   "id": "7dae6889",
   "metadata": {},
   "source": [
    "### Print out the dimension (number of axes), shape, size and the datatype of the matrix A."
   ]
  },
  {
   "cell_type": "code",
   "execution_count": 23,
   "id": "7b3678cd",
   "metadata": {},
   "outputs": [],
   "source": [
    "A = np.arange(1, 16).reshape(3,5)"
   ]
  },
  {
   "cell_type": "code",
   "execution_count": 25,
   "id": "31d39235",
   "metadata": {},
   "outputs": [
    {
     "name": "stdout",
     "output_type": "stream",
     "text": [
      "Dimension (Number of axes): 2\n",
      "Shape: (3, 5)\n",
      "Size: 15\n",
      "Datatype: int32\n"
     ]
    }
   ],
   "source": [
    "print(\"Dimension (Number of axes):\", A.ndim)\n",
    "print(\"Shape:\", A.shape)\n",
    "print(\"Size:\", A.size)\n",
    "print(\"Datatype:\", A.dtype)"
   ]
  },
  {
   "cell_type": "markdown",
   "id": "e56d2a96",
   "metadata": {},
   "source": [
    "### Do the following computations on the matrices B and C: \n",
    "* Elementwise subtraction. \n",
    "* Elementwise multiplication. \n",
    "* Matrix multiplication (by default you should use the @ operator)."
   ]
  },
  {
   "cell_type": "code",
   "execution_count": 27,
   "id": "a7053fbb",
   "metadata": {},
   "outputs": [
    {
     "name": "stdout",
     "output_type": "stream",
     "text": [
      "[[1 2 3]\n",
      " [4 5 6]\n",
      " [7 8 9]]\n",
      "[[2. 2. 2.]\n",
      " [2. 2. 2.]\n",
      " [2. 2. 2.]]\n",
      "\n",
      "Elementwise subtraction\n",
      "[[-1.  0.  1.]\n",
      " [ 2.  3.  4.]\n",
      " [ 5.  6.  7.]]\n",
      "\n",
      "Elementwise multiplication\n",
      "[[ 2.  4.  6.]\n",
      " [ 8. 10. 12.]\n",
      " [14. 16. 18.]]\n",
      "\n",
      "Matrix Multiplication\n",
      "[[12. 12. 12.]\n",
      " [30. 30. 30.]\n",
      " [48. 48. 48.]]\n"
     ]
    }
   ],
   "source": [
    "B = np.arange(1, 10).reshape(3, 3)\n",
    "C = np.ones((3, 3))*2\n",
    "\n",
    "print(B)\n",
    "print(C)\n",
    "\n",
    "elementwise_subtraction = B - C\n",
    "print(\"\\nElementwise subtraction\")\n",
    "print(elementwise_subtraction)\n",
    "\n",
    "elementwise_multiplication = B * C\n",
    "print(\"\\nElementwise multiplication\")\n",
    "print(elementwise_multiplication)\n",
    "\n",
    "matrix_multiplication = B @ C\n",
    "print(\"\\nMatrix Multiplication\")\n",
    "print(matrix_multiplication)"
   ]
  },
  {
   "cell_type": "markdown",
   "id": "96030d53",
   "metadata": {},
   "source": [
    "### Do the following calculations on the matrix:\n",
    "* Exponentiate each number elementwise (use the np.exp function).\n",
    "\n",
    "* Calculate the minimum value in the whole matrix. \n",
    "* Calculcate the minimum value in each row. \n",
    "* Calculcate the minimum value in each column. \n",
    "\n",
    "\n",
    "* Find the index value for the minimum value in the whole matrix (hint: use np.argmin).\n",
    "* Find the index value for the minimum value in each row (hint: use np.argmin).\n",
    "\n",
    "\n",
    "* Calculate the sum for all elements.\n",
    "* Calculate the mean for each column. \n",
    "* Calculate the median for each column. "
   ]
  },
  {
   "cell_type": "code",
   "execution_count": 29,
   "id": "f8a9166b",
   "metadata": {},
   "outputs": [
    {
     "name": "stdout",
     "output_type": "stream",
     "text": [
      "[[1 2 3]\n",
      " [4 5 6]\n",
      " [7 8 9]]\n"
     ]
    }
   ],
   "source": [
    "B = np.arange(1, 10).reshape(3, 3)\n",
    "print(B)"
   ]
  },
  {
   "cell_type": "code",
   "execution_count": 89,
   "id": "f03f24f7",
   "metadata": {},
   "outputs": [
    {
     "name": "stdout",
     "output_type": "stream",
     "text": [
      "Exponentiated\n",
      "[[2.71828183e+00 7.38905610e+00 2.00855369e+01]\n",
      " [5.45981500e+01 1.48413159e+02 4.03428793e+02]\n",
      " [1.09663316e+03 2.98095799e+03 8.10308393e+03]]\n",
      "\n",
      "Minimum value in the matrix\n",
      "1\n",
      "\n",
      "Minimum value in each row\n",
      "[1 4 7]\n",
      "\n",
      "Minimum value in each column\n",
      "[1 2 3]\n",
      "\n",
      "Index of the minimum value in the matrix\n",
      "0\n",
      "\n",
      "Index of the minimum value in each row\n",
      "[0 0 0]\n",
      "\n",
      "Sum for all elements\n",
      "45\n",
      "\n",
      "Mean of each column\n",
      "[4. 5. 6.]\n",
      "\n",
      "Median of each column\n",
      "[4. 5. 6.]\n"
     ]
    }
   ],
   "source": [
    "#exp\n",
    "exp_B = np.exp(B)\n",
    "print(\"Exponentiated\")\n",
    "print(exp_B)\n",
    "\n",
    "#min\n",
    "min_value = np.min(B)\n",
    "print(\"\\nMinimum value in the matrix\")\n",
    "print(min_value)\n",
    "\n",
    "#min value in each row\n",
    "min_value_row = np.min(B, axis=1)\n",
    "print(\"\\nMinimum value in each row\")\n",
    "print(min_value_row)\n",
    "\n",
    "#min value in each column\n",
    "min_value_col = np.min(B, axis=0)\n",
    "print(\"\\nMinimum value in each column\")\n",
    "print(min_value_col)\n",
    "\n",
    "#index of the min value in the matrix\n",
    "index_min = np.argmin(B)\n",
    "print(\"\\nIndex of the minimum value in the matrix\")\n",
    "print(index_min)\n",
    "\n",
    "#index of the min value in each row\n",
    "index_min_row = np.argmin(B, axis=1)\n",
    "print(\"\\nIndex of the minimum value in each row\")\n",
    "print(index_min_row)\n",
    "\n",
    "#calculate the sum for all elements\n",
    "sum_ele = np.sum(B)\n",
    "print(\"\\nSum for all elements\")\n",
    "print(sum_ele)\n",
    "\n",
    "#calculate the mean for each column\n",
    "mean_col = np.mean(B, axis=0)\n",
    "print(\"\\nMean of each column\")\n",
    "print(mean_col)\n",
    "\n",
    "#calculate the median for each column\n",
    "median_col = np.median(B, axis=0)\n",
    "print(\"\\nMedian of each column\")\n",
    "print(median_col)"
   ]
  },
  {
   "cell_type": "markdown",
   "id": "541eb7ba",
   "metadata": {},
   "source": [
    "### What does it mean when you provide fewer indices than axes when slicing? See example below."
   ]
  },
  {
   "cell_type": "code",
   "execution_count": 91,
   "id": "9c8abf56",
   "metadata": {},
   "outputs": [
    {
     "name": "stdout",
     "output_type": "stream",
     "text": [
      "[[ 1  2  3  4  5]\n",
      " [ 6  7  8  9 10]\n",
      " [11 12 13 14 15]]\n"
     ]
    }
   ],
   "source": [
    "print(A)"
   ]
  },
  {
   "cell_type": "code",
   "execution_count": 101,
   "id": "69415f7b",
   "metadata": {},
   "outputs": [
    {
     "data": {
      "text/plain": [
       "array([ 6,  7,  8,  9, 10])"
      ]
     },
     "execution_count": 101,
     "metadata": {},
     "output_type": "execute_result"
    }
   ],
   "source": [
    "A[1]"
   ]
  },
  {
   "cell_type": "markdown",
   "id": "6c53541b",
   "metadata": {},
   "source": [
    "**Answer: A[1] skriver ut andra raden i matrisen, skriver vi A[0] så får vi ut första raden i matrisen och skriver vi A[2] får vi ut tredje raden i matrisen, detta är pågrund att vi har en 2-D Array. indexet börjar även på 0!**"
   ]
  },
  {
   "cell_type": "markdown",
   "id": "6652d0c9",
   "metadata": {},
   "source": [
    "### Iterating over multidimensional arrays is done with respect to the first axis, so in the example below we iterate trough the rows. If you would like to iterate through the array *elementwise*, how would you do that?"
   ]
  },
  {
   "cell_type": "code",
   "execution_count": 107,
   "id": "9459864f",
   "metadata": {},
   "outputs": [
    {
     "data": {
      "text/plain": [
       "array([[ 1,  2,  3,  4,  5],\n",
       "       [ 6,  7,  8,  9, 10],\n",
       "       [11, 12, 13, 14, 15]])"
      ]
     },
     "execution_count": 107,
     "metadata": {},
     "output_type": "execute_result"
    }
   ],
   "source": [
    "A"
   ]
  },
  {
   "cell_type": "code",
   "execution_count": 109,
   "id": "a671bb5a",
   "metadata": {},
   "outputs": [
    {
     "name": "stdout",
     "output_type": "stream",
     "text": [
      "[1 2 3 4 5]\n",
      "[ 6  7  8  9 10]\n",
      "[11 12 13 14 15]\n"
     ]
    }
   ],
   "source": [
    "for i in A:\n",
    "    print(i)"
   ]
  },
  {
   "cell_type": "code",
   "execution_count": 113,
   "id": "f4e443a0",
   "metadata": {},
   "outputs": [
    {
     "name": "stdout",
     "output_type": "stream",
     "text": [
      "1 2 3 4 5 6 7 8 9 10 11 12 13 14 15 "
     ]
    }
   ],
   "source": [
    "#using np.editer allows it to iterate over each element in the array\n",
    "for x in np.nditer(A):\n",
    "    print(x, end=\" \")"
   ]
  },
  {
   "cell_type": "markdown",
   "id": "608a2583",
   "metadata": {},
   "source": [
    "### Explain what the code below does. More specifically, b has three axes - what does this mean? "
   ]
  },
  {
   "cell_type": "code",
   "execution_count": 135,
   "id": "f8f9b26f",
   "metadata": {},
   "outputs": [
    {
     "name": "stdout",
     "output_type": "stream",
     "text": [
      "[ 0  1  2  3  4  5  6  7  8  9 10 11 12 13 14 15 16 17 18 19 20 21 22 23\n",
      " 24 25 26 27 28 29]\n",
      "\n",
      "[[[ 0  1  2  3  4]\n",
      "  [ 5  6  7  8  9]\n",
      "  [10 11 12 13 14]]\n",
      "\n",
      " [[15 16 17 18 19]\n",
      "  [20 21 22 23 24]\n",
      "  [25 26 27 28 29]]]\n"
     ]
    }
   ],
   "source": [
    "a = np.arange(30)\n",
    "b = a.reshape((2, 3, -1))\n",
    "print(a)\n",
    "print()\n",
    "\n",
    "print(b)"
   ]
  },
  {
   "cell_type": "markdown",
   "id": "be6a59dd-8bd2-4907-8013-5a817a45ab18",
   "metadata": {
    "scrolled": true
   },
   "source": [
    "* Svar: a skriver ut en array med elementen 0 till 29 och b formar om arrayen till en 3-D Array där första axeln beskriver antalet matriser,\n",
    "andra axeln beskriver hur många rader matriserna har och sista axeln beskriver hur många kolumner det ska finnas då det igentligen ska stå 5 men\n",
    "med -1 så kalkylerar den snabbt själv vad som behövs så slipper man själv räkna på det."
   ]
  },
  {
   "cell_type": "code",
   "execution_count": 153,
   "id": "863a45df",
   "metadata": {},
   "outputs": [
    {
     "name": "stdout",
     "output_type": "stream",
     "text": [
      "[[[ 0  1  2  3  4]\n",
      "  [ 5  6  7  8  9]]\n",
      "\n",
      " [[10 11 12 13 14]\n",
      "  [15 16 17 18 19]]\n",
      "\n",
      " [[20 21 22 23 24]\n",
      "  [25 26 27 28 29]]]\n"
     ]
    }
   ],
   "source": [
    "test = a.reshape((3, 2, 5))\n",
    "print(test)"
   ]
  },
  {
   "cell_type": "code",
   "execution_count": 171,
   "id": "eed38bbb-dd20-4d23-837f-679aa3d3a067",
   "metadata": {},
   "outputs": [
    {
     "name": "stdout",
     "output_type": "stream",
     "text": [
      "[[[ 0  1  2  3  4]]\n",
      "\n",
      " [[ 5  6  7  8  9]]\n",
      "\n",
      " [[10 11 12 13 14]]\n",
      "\n",
      " [[15 16 17 18 19]]\n",
      "\n",
      " [[20 21 22 23 24]]\n",
      "\n",
      " [[25 26 27 28 29]]]\n"
     ]
    }
   ],
   "source": [
    "test2 = a.reshape((6, 1, -1))\n",
    "print(test2)"
   ]
  },
  {
   "cell_type": "markdown",
   "id": "421c9607-819a-401d-949a-97424436fe29",
   "metadata": {},
   "source": [
    "# For the exercises below, read the document *\"matematik_yh_antonio_vektorer_matriser_utdrag\"*\n",
    "# Solutions to the exercises and recorded videos can be found here: https://github.com/AntonioPrgomet/matematik_foer_yh\n",
    "\n",
    "# If you find the exercises below very hard, do not worry. Try your best, that will be enough. "
   ]
  },
  {
   "cell_type": "markdown",
   "id": "ab5933d5",
   "metadata": {},
   "source": [
    "### Broadcasting\n",
    "**Read the following link about broadcasting: https://numpy.org/doc/stable/user/basics.broadcasting.html#basics-broadcasting**"
   ]
  },
  {
   "cell_type": "markdown",
   "id": "039805ba",
   "metadata": {},
   "source": [
    "# Remark on Broadcasting when doing Linear Algebra calculations in Python. "
   ]
  },
  {
   "cell_type": "markdown",
   "id": "c4bcc147",
   "metadata": {},
   "source": [
    "### From the mathematical rules of matrix addition, the operation below (m1 + m2) does not make sense. The reason is that matrix addition requires two matrices of the same size. In Python however, it works due to broadcasting rules in NumPy. So you must be careful when doing Linear Algebra calculations in Python since they do not follow the \"mathematical rules\". This can however easily be handled by doing some simple programming, for example validating that two matrices have the same shape is easy if you for instance want to add two matrices. "
   ]
  },
  {
   "cell_type": "code",
   "execution_count": 185,
   "id": "1fd46778",
   "metadata": {},
   "outputs": [
    {
     "name": "stdout",
     "output_type": "stream",
     "text": [
      "[[2 3]\n",
      " [4 5]]\n"
     ]
    }
   ],
   "source": [
    "m1 = np.array([[1, 2], [3, 4]])\n",
    "m2 = np.array([1, 1])\n",
    "print(m1 + m2)"
   ]
  },
  {
   "cell_type": "markdown",
   "id": "047d6576",
   "metadata": {},
   "source": [
    "### The example below would also not be allowed if following the \"mathematical rules\" in Linear Algebra. But it works due to broadcasting in NumPy. "
   ]
  },
  {
   "cell_type": "code",
   "execution_count": 187,
   "id": "5e6ef2e4",
   "metadata": {},
   "outputs": [
    {
     "name": "stdout",
     "output_type": "stream",
     "text": [
      "[2 3 4]\n"
     ]
    }
   ],
   "source": [
    "v1 = np.array([1, 2, 3])\n",
    "print(v1 + 1)"
   ]
  },
  {
   "cell_type": "code",
   "execution_count": 189,
   "id": "e2cbae26",
   "metadata": {},
   "outputs": [
    {
     "name": "stdout",
     "output_type": "stream",
     "text": [
      "[[1 2]\n",
      " [3 4]]\n",
      "[2 2]\n"
     ]
    }
   ],
   "source": [
    "A = np.arange(1, 5).reshape(2,2)\n",
    "print(A)\n",
    "\n",
    "b = np.array([2, 2])\n",
    "print(b)"
   ]
  },
  {
   "cell_type": "markdown",
   "id": "722fd5cd",
   "metadata": {},
   "source": [
    "# Vector- and matrix algebra Exercises"
   ]
  },
  {
   "cell_type": "markdown",
   "id": "b63a3081-d976-4d9f-bfd0-a63917e79f7d",
   "metadata": {},
   "source": [
    "**Now you are going to create a function that can be reused every time you add or multiply matrices. The function is created so that we do the addition and multiplication according to the rules of vector- and matrix algebra.**\n",
    "\n",
    "**Create a function \"add_mult_matrices\" that takes two matrices as input arguments (validate that the input are of the type numpy.ndarray by using the isinstance function), a third argument that is either 'add' or 'multiply' that specifies if you want to add or multiply the matrices (validate that the third argument is either 'add' or 'multiply'). When doing matrix addition, validate that the matrices have the same size. When doing matrix multiplication, validate that the sizes conform (i.e. number of columns in the first matrix is equal to the number of rows in the second matrix).**"
   ]
  },
  {
   "cell_type": "markdown",
   "id": "8dad82d0-2359-4dff-8f5b-a57d3e34103c",
   "metadata": {},
   "source": [
    "### Solve all the exercises in chapter 10.1 in the book \"Matematik för yrkeshögskolan\". "
   ]
  },
  {
   "cell_type": "markdown",
   "id": "e3014c14-f1b1-49ec-8cc2-df50dcfe9dd2",
   "metadata": {},
   "source": [
    "#  Uppgift 10.1.1 Definiera vektorn x enligt nedan. x=(4,3)\n",
    "* (a) Vilken dimension har vektorn x?\n",
    "* Svar: 1x2, x har 1 rad och 2 kolumner"
   ]
  },
  {
   "cell_type": "markdown",
   "id": "5cc9fe1a-00f1-46f9-9382-299e2fa8e95b",
   "metadata": {},
   "source": [
    "* (b) Beräkna 5x."
   ]
  },
  {
   "cell_type": "code",
   "execution_count": 38,
   "id": "60989544-94fb-461c-867b-7dea3d213d38",
   "metadata": {},
   "outputs": [
    {
     "data": {
      "text/plain": [
       "array([20, 15])"
      ]
     },
     "execution_count": 38,
     "metadata": {},
     "output_type": "execute_result"
    }
   ],
   "source": [
    "x = np.array([4, 3])\n",
    "svar = 5 * x\n",
    "svar"
   ]
  },
  {
   "cell_type": "markdown",
   "id": "a82093f0-1832-4b33-aea8-465a0362289f",
   "metadata": {},
   "source": [
    "* (c) Beräkna 3x."
   ]
  },
  {
   "cell_type": "code",
   "execution_count": 45,
   "id": "042eb898-54db-4c69-8b7e-21075336a015",
   "metadata": {},
   "outputs": [
    {
     "data": {
      "text/plain": [
       "array([12,  9])"
      ]
     },
     "execution_count": 45,
     "metadata": {},
     "output_type": "execute_result"
    }
   ],
   "source": [
    "svar2 = 3 * x\n",
    "svar2"
   ]
  },
  {
   "cell_type": "markdown",
   "id": "7b2f89b6-8573-4bd9-9009-2705c60eda94",
   "metadata": {},
   "source": [
    "* (d) Beräkna 5x+3x."
   ]
  },
  {
   "cell_type": "code",
   "execution_count": 48,
   "id": "b024c1ae-4eef-4efa-a3af-c9757f7ac87e",
   "metadata": {},
   "outputs": [
    {
     "data": {
      "text/plain": [
       "array([32, 24])"
      ]
     },
     "execution_count": 48,
     "metadata": {},
     "output_type": "execute_result"
    }
   ],
   "source": [
    "svar3 = svar + svar2\n",
    "svar3"
   ]
  },
  {
   "cell_type": "markdown",
   "id": "ee5bb222-7024-442d-858e-20b48025118f",
   "metadata": {},
   "source": [
    "* (e) Beräkna 8x."
   ]
  },
  {
   "cell_type": "code",
   "execution_count": 57,
   "id": "0904b26d-7c2f-456d-9932-a69b4426d13e",
   "metadata": {},
   "outputs": [
    {
     "data": {
      "text/plain": [
       "array([32, 24])"
      ]
     },
     "execution_count": 57,
     "metadata": {},
     "output_type": "execute_result"
    }
   ],
   "source": [
    "svar4 = 8 * x\n",
    "svar4"
   ]
  },
  {
   "cell_type": "markdown",
   "id": "6fa14aa9-2c75-4759-bb39-3b369534ebb0",
   "metadata": {},
   "source": [
    "* (f) Beräkna 4x−x."
   ]
  },
  {
   "cell_type": "code",
   "execution_count": 59,
   "id": "eef9eb84-fd79-40e5-870d-fd0880b35f6c",
   "metadata": {},
   "outputs": [
    {
     "data": {
      "text/plain": [
       "array([12,  9])"
      ]
     },
     "execution_count": 59,
     "metadata": {},
     "output_type": "execute_result"
    }
   ],
   "source": [
    "fyra = 4 * x\n",
    "svar5 = fyra - x\n",
    "svar5"
   ]
  },
  {
   "cell_type": "markdown",
   "id": "b65a4b35-0ece-43cb-9d3c-9382a7dfd9ff",
   "metadata": {},
   "source": [
    "* (g) Beräkna x⊤, vilken blir den nya dimensionen efter att transponeringen utförts?"
   ]
  },
  {
   "cell_type": "code",
   "execution_count": 88,
   "id": "254718f2-522b-4514-92d5-3be9ebf85fed",
   "metadata": {},
   "outputs": [
    {
     "data": {
      "text/plain": [
       "array([[4],\n",
       "       [3]])"
      ]
     },
     "execution_count": 88,
     "metadata": {},
     "output_type": "execute_result"
    }
   ],
   "source": [
    "# x.T\n",
    "# Svar: det ska bli 2x1 efter transponering men x.T funkar inte :(\n",
    "ny_x = x.reshape(-1, 1)\n",
    "ny_x"
   ]
  },
  {
   "cell_type": "markdown",
   "id": "5265b576-af43-4aa5-87c4-dccbdfce425b",
   "metadata": {},
   "source": [
    "* (h) Är x+x⊤ definierat?"
   ]
  },
  {
   "cell_type": "code",
   "execution_count": 90,
   "id": "30a0dcd1-59ed-4f2b-bf66-4c4d05d15c84",
   "metadata": {},
   "outputs": [
    {
     "data": {
      "text/plain": [
       "array([[8, 7],\n",
       "       [7, 6]])"
      ]
     },
     "execution_count": 90,
     "metadata": {},
     "output_type": "execute_result"
    }
   ],
   "source": [
    "svar6 = x + ny_x\n",
    "svar6"
   ]
  },
  {
   "cell_type": "markdown",
   "id": "35269b6a-6dea-41c5-89c5-dc190ff63428",
   "metadata": {},
   "source": [
    "* (i) Beräkna ∥x∥."
   ]
  },
  {
   "cell_type": "code",
   "execution_count": 93,
   "id": "5e512e3b-f1af-4caa-b97a-34d8de594df1",
   "metadata": {},
   "outputs": [
    {
     "data": {
      "text/plain": [
       "5.0"
      ]
     },
     "execution_count": 93,
     "metadata": {},
     "output_type": "execute_result"
    }
   ],
   "source": [
    "svar7 = np.linalg.norm(x)\n",
    "svar7"
   ]
  },
  {
   "cell_type": "markdown",
   "id": "7536baee-73c2-47c7-960b-0114ba6800c6",
   "metadata": {},
   "source": [
    "# Uppgift 10.1.2. Definiera vektorn v enligt nedan."
   ]
  },
  {
   "cell_type": "markdown",
   "id": "bba90909-3d01-4fa7-854b-657084440c75",
   "metadata": {},
   "source": [
    "(a) Vilken dimension har vektorn v?\n",
    "* Svar: 4x1, v har 4 rader och 1 kolumn\n",
    "* (b) Beräkna 2v."
   ]
  },
  {
   "cell_type": "code",
   "execution_count": 106,
   "id": "ad10e49b-f05e-4c92-8b44-c1c94cccb4bd",
   "metadata": {},
   "outputs": [
    {
     "data": {
      "text/plain": [
       "array([ 6, 14,  0, 22])"
      ]
     },
     "execution_count": 106,
     "metadata": {},
     "output_type": "execute_result"
    }
   ],
   "source": [
    "v = np.array([3, 7, 0, 11])\n",
    "svar8 = 2 * v\n",
    "svar8"
   ]
  },
  {
   "cell_type": "markdown",
   "id": "693cb093-e74d-4cbd-b9c0-26847ffbdb7f",
   "metadata": {},
   "source": [
    "* (c) Beräkna 5v + 2v."
   ]
  },
  {
   "cell_type": "code",
   "execution_count": 109,
   "id": "74f30cfa-6afc-4dbd-accc-f94f9a5e5574",
   "metadata": {},
   "outputs": [
    {
     "data": {
      "text/plain": [
       "array([21, 49,  0, 77])"
      ]
     },
     "execution_count": 109,
     "metadata": {},
     "output_type": "execute_result"
    }
   ],
   "source": [
    "fem = 5 * v\n",
    "svar9 = fem + svar8\n",
    "svar9"
   ]
  },
  {
   "cell_type": "markdown",
   "id": "40b829cd-e919-4e08-a484-c6da30949e62",
   "metadata": {},
   "source": [
    "* (d) Beräkna 4v − 2v."
   ]
  },
  {
   "cell_type": "code",
   "execution_count": 112,
   "id": "20d91059-1427-4c06-af28-6e29ebf8f333",
   "metadata": {},
   "outputs": [
    {
     "data": {
      "text/plain": [
       "array([ 6, 14,  0, 22])"
      ]
     },
     "execution_count": 112,
     "metadata": {},
     "output_type": "execute_result"
    }
   ],
   "source": [
    "fyra2 = 4 * v\n",
    "svar10 = fyra2 - svar8\n",
    "svar10"
   ]
  },
  {
   "cell_type": "markdown",
   "id": "3ec22b2a-c7f7-4f70-84c5-b1bf175cb8e0",
   "metadata": {},
   "source": [
    "* (e) Beräkna v⊤, vilken blir den nya dimensionen efter att transponeringen utförts?\n",
    "* Svar: 1x4, efter transponering får den 1 rad och 4 kolumner"
   ]
  },
  {
   "cell_type": "markdown",
   "id": "807c47c1-a937-4db4-adba-9ba3c64fa941",
   "metadata": {},
   "source": [
    "* (f) Beräkna ∥v∥."
   ]
  },
  {
   "cell_type": "code",
   "execution_count": 117,
   "id": "ffaecf06-75bf-40e3-b6c3-d1153f53adb9",
   "metadata": {},
   "outputs": [
    {
     "data": {
      "text/plain": [
       "13.379088160259652"
      ]
     },
     "execution_count": 117,
     "metadata": {},
     "output_type": "execute_result"
    }
   ],
   "source": [
    "svar11 = np.linalg.norm(v)\n",
    "svar11"
   ]
  },
  {
   "cell_type": "markdown",
   "id": "186a5bb9-45bc-45c0-a51e-094f3aaf197b",
   "metadata": {},
   "source": [
    "# Uppgift 10.1.3. Definiera vektorerna v1 = (4,3,1,5) och v2 = (2,3,1,1).\n",
    "* (a) Beräkna ∥v1∥."
   ]
  },
  {
   "cell_type": "code",
   "execution_count": 122,
   "id": "bd605029-75d5-4209-bca3-fef2d311ea5c",
   "metadata": {},
   "outputs": [
    {
     "data": {
      "text/plain": [
       "7.14142842854285"
      ]
     },
     "execution_count": 122,
     "metadata": {},
     "output_type": "execute_result"
    }
   ],
   "source": [
    "v1 = np.array([4, 3, 1, 5])\n",
    "svar12 = np.linalg.norm(v1)\n",
    "svar12"
   ]
  },
  {
   "cell_type": "markdown",
   "id": "7db126ec-daad-4ac8-b52a-873c1bf5250a",
   "metadata": {},
   "source": [
    "* (b) Beräkna ∥v1 − v2∥"
   ]
  },
  {
   "cell_type": "code",
   "execution_count": 128,
   "id": "15940dc6-904a-4254-b64a-0687fbc4343f",
   "metadata": {},
   "outputs": [
    {
     "data": {
      "text/plain": [
       "4.47213595499958"
      ]
     },
     "execution_count": 128,
     "metadata": {},
     "output_type": "execute_result"
    }
   ],
   "source": [
    "v2 = np.array([2, 3, 1, 1])\n",
    "svar13 = np.linalg.norm(v1 - v2)\n",
    "svar13"
   ]
  },
  {
   "cell_type": "markdown",
   "id": "75c98984-1f88-4df1-b850-d2466de444a5",
   "metadata": {},
   "source": [
    "### Solve all the exercises, except 10.2.4, in chapter 10.2 in the book \"Matematik för yrkeshögskolan\". "
   ]
  },
  {
   "cell_type": "markdown",
   "id": "96b7e22b-2f78-4511-b4e3-e7b254f9660e",
   "metadata": {},
   "source": [
    "# Övningsuppgifter\n",
    "* Uppgift 10.2.1. Definiera matriserna:"
   ]
  },
  {
   "cell_type": "code",
   "execution_count": 300,
   "id": "860daee8-4500-4772-a1bd-c1354ccbd136",
   "metadata": {},
   "outputs": [
    {
     "name": "stdout",
     "output_type": "stream",
     "text": [
      "Matris A:\n",
      " [[ 2  1 -1]\n",
      " [ 1 -1  1]]\n",
      "\n",
      "Matris B:\n",
      " [[ 4 -2  1]\n",
      " [ 2 -4 -2]]\n",
      "\n",
      "Matris C:\n",
      " [[1 2]\n",
      " [2 1]]\n",
      "\n",
      "Matris D:\n",
      " [[3 4]\n",
      " [4 3]]\n",
      "\n",
      "Matris E:\n",
      " [[1]\n",
      " [2]]\n",
      "\n",
      "Matris I:\n",
      " [[1 0]\n",
      " [0 1]]\n"
     ]
    }
   ],
   "source": [
    "A = np.array([[2, 1, -1], [1, -1, 1]])\n",
    "B = np.array([[4, -2, 1], [2, -4, -2]])\n",
    "C = np.array([[1, 2], [2, 1]])\n",
    "D = np.array([[3, 4], [4, 3]])\n",
    "E = np.array([[1], [2]])\n",
    "I = np.array([[1, 0], [0, 1]])\n",
    "\n",
    "print(\"Matris A:\\n\", A)\n",
    "print(\"\\nMatris B:\\n\", B)\n",
    "print(\"\\nMatris C:\\n\", C)\n",
    "print(\"\\nMatris D:\\n\", D)\n",
    "print(\"\\nMatris E:\\n\", E)\n",
    "print(\"\\nMatris I:\\n\", I)"
   ]
  },
  {
   "cell_type": "markdown",
   "id": "4bb1705c-9cf2-414c-9895-2b5210236be9",
   "metadata": {},
   "source": [
    "* (a) 2A"
   ]
  },
  {
   "cell_type": "code",
   "execution_count": 150,
   "id": "215cb4c9-313b-42eb-ad02-d1f547f4f543",
   "metadata": {},
   "outputs": [
    {
     "data": {
      "text/plain": [
       "array([[ 4,  2, -2],\n",
       "       [ 2, -2,  2]])"
      ]
     },
     "execution_count": 150,
     "metadata": {},
     "output_type": "execute_result"
    }
   ],
   "source": [
    "svar14 = 2 * A\n",
    "svar14"
   ]
  },
  {
   "cell_type": "markdown",
   "id": "297e8db4-702c-4506-b881-3da2c8b220af",
   "metadata": {},
   "source": [
    "* (b) B −2A"
   ]
  },
  {
   "cell_type": "code",
   "execution_count": 153,
   "id": "2364dce6-bb37-458e-afb9-fe9564e249d3",
   "metadata": {},
   "outputs": [
    {
     "data": {
      "text/plain": [
       "array([[ 0, -4,  3],\n",
       "       [ 0, -2, -4]])"
      ]
     },
     "execution_count": 153,
     "metadata": {},
     "output_type": "execute_result"
    }
   ],
   "source": [
    "svar15 = B - svar14\n",
    "svar15"
   ]
  },
  {
   "cell_type": "markdown",
   "id": "5980dc93-3afe-4a85-9af0-ae509658dbcc",
   "metadata": {},
   "source": [
    "* (c) 3C −2E"
   ]
  },
  {
   "cell_type": "code",
   "execution_count": 156,
   "id": "2ba3a7a5-07ad-4a59-813c-7c626011253d",
   "metadata": {},
   "outputs": [
    {
     "data": {
      "text/plain": [
       "array([[ 1,  4],\n",
       "       [ 2, -1]])"
      ]
     },
     "execution_count": 156,
     "metadata": {},
     "output_type": "execute_result"
    }
   ],
   "source": [
    "tre_c = 3 * C\n",
    "two_e = 2 * E\n",
    "svar16 = tre_c - two_e\n",
    "svar16"
   ]
  },
  {
   "cell_type": "markdown",
   "id": "7f848fdd-ea5f-42d2-8e8f-9a6dafe02055",
   "metadata": {},
   "source": [
    "* (d) 2D −3C"
   ]
  },
  {
   "cell_type": "code",
   "execution_count": 161,
   "id": "09ec3759-ceba-492e-a69c-1fc5b5200f7c",
   "metadata": {},
   "outputs": [
    {
     "data": {
      "text/plain": [
       "array([[3, 2],\n",
       "       [2, 3]])"
      ]
     },
     "execution_count": 161,
     "metadata": {},
     "output_type": "execute_result"
    }
   ],
   "source": [
    "two_d = 2 * D\n",
    "svar17 = two_d - tre_c\n",
    "svar17"
   ]
  },
  {
   "cell_type": "markdown",
   "id": "f5c6c56a-bd5b-4f84-ae92-66ecda3e1d7a",
   "metadata": {},
   "source": [
    "* (e) D⊤ +2D"
   ]
  },
  {
   "cell_type": "code",
   "execution_count": 164,
   "id": "76e25452-92fd-43c6-a114-a2fd27cc587e",
   "metadata": {},
   "outputs": [
    {
     "data": {
      "text/plain": [
       "array([[ 9, 12],\n",
       "       [12,  9]])"
      ]
     },
     "execution_count": 164,
     "metadata": {},
     "output_type": "execute_result"
    }
   ],
   "source": [
    "transponera_d = D.T\n",
    "svar18 = transponera_d + two_d\n",
    "svar18"
   ]
  },
  {
   "cell_type": "markdown",
   "id": "98b15043-e7c3-4bf7-a574-70d562a20c5d",
   "metadata": {},
   "source": [
    "* (f) 2C⊤ −2D⊤"
   ]
  },
  {
   "cell_type": "code",
   "execution_count": 179,
   "id": "5fc34892-cee7-485b-aaf4-11d9a264159b",
   "metadata": {},
   "outputs": [
    {
     "data": {
      "text/plain": [
       "array([[-4, -4],\n",
       "       [-4, -4]])"
      ]
     },
     "execution_count": 179,
     "metadata": {},
     "output_type": "execute_result"
    }
   ],
   "source": [
    "transponera_c = C.T\n",
    "cT2 = 2 * transponera_c\n",
    "dT2 = 2 * transponera_d\n",
    "svar19 = cT2 - dT2\n",
    "svar19"
   ]
  },
  {
   "cell_type": "markdown",
   "id": "9e7a058c-3521-4700-b230-e257c5340af4",
   "metadata": {},
   "source": [
    "* (g) A⊤ −B"
   ]
  },
  {
   "cell_type": "code",
   "execution_count": 231,
   "id": "feb641c7-eb5f-453c-8881-ade8b019abe5",
   "metadata": {},
   "outputs": [
    {
     "data": {
      "text/plain": [
       "array([[10, -8,  0],\n",
       "       [ 2,  2,  3],\n",
       "       [-2, -2, -3]])"
      ]
     },
     "execution_count": 231,
     "metadata": {},
     "output_type": "execute_result"
    }
   ],
   "source": [
    "transponera_a = A.T\n",
    "svar20 = np.dot(transponera_a, B)\n",
    "svar20"
   ]
  },
  {
   "cell_type": "markdown",
   "id": "3327d002-37e0-4036-bdf1-352cfdfdeafa",
   "metadata": {},
   "source": [
    "* (h) AC"
   ]
  },
  {
   "cell_type": "code",
   "execution_count": 233,
   "id": "f7203768-14c6-44c2-8255-0bd9206b5b4c",
   "metadata": {},
   "outputs": [
    {
     "ename": "ValueError",
     "evalue": "shapes (2,3) and (2,2) not aligned: 3 (dim 1) != 2 (dim 0)",
     "output_type": "error",
     "traceback": [
      "\u001b[1;31m---------------------------------------------------------------------------\u001b[0m",
      "\u001b[1;31mValueError\u001b[0m                                Traceback (most recent call last)",
      "Cell \u001b[1;32mIn[233], line 2\u001b[0m\n\u001b[0;32m      1\u001b[0m \u001b[38;5;66;03m#svar21 = A * C\u001b[39;00m\n\u001b[1;32m----> 2\u001b[0m svar21_test \u001b[38;5;241m=\u001b[39m np\u001b[38;5;241m.\u001b[39mdot(A, C)\n\u001b[0;32m      3\u001b[0m \u001b[38;5;66;03m#svar21\u001b[39;00m\n\u001b[0;32m      4\u001b[0m svar21_test\n",
      "\u001b[1;31mValueError\u001b[0m: shapes (2,3) and (2,2) not aligned: 3 (dim 1) != 2 (dim 0)"
     ]
    }
   ],
   "source": [
    "#svar21 = A * C\n",
    "svar21_test = np.dot(A, C)\n",
    "#svar21\n",
    "svar21_test\n",
    "\n",
    "# Ingen aning, har försökt med allt typ..."
   ]
  },
  {
   "cell_type": "markdown",
   "id": "64a68a41-9e5e-4340-b711-3461dcf88962",
   "metadata": {},
   "source": [
    "* (i) CD"
   ]
  },
  {
   "cell_type": "code",
   "execution_count": 198,
   "id": "890b6f5c-7336-4e23-a9fb-0e2c5836c6ea",
   "metadata": {},
   "outputs": [
    {
     "data": {
      "text/plain": [
       "array([[3, 8],\n",
       "       [8, 3]])"
      ]
     },
     "execution_count": 198,
     "metadata": {},
     "output_type": "execute_result"
    }
   ],
   "source": [
    "svar22 = C * D\n",
    "svar22"
   ]
  },
  {
   "cell_type": "markdown",
   "id": "833514ce-e450-41b8-962a-e30d8d55382d",
   "metadata": {},
   "source": [
    "* (j) CB"
   ]
  },
  {
   "cell_type": "code",
   "execution_count": 215,
   "id": "6f65ba85-667a-495d-b78c-9f7264c8f661",
   "metadata": {},
   "outputs": [
    {
     "data": {
      "text/plain": [
       "array([[  8, -10,  -3],\n",
       "       [ 10,  -8,   0]])"
      ]
     },
     "execution_count": 215,
     "metadata": {},
     "output_type": "execute_result"
    }
   ],
   "source": [
    "svar23 = np.dot(C, B)\n",
    "svar23"
   ]
  },
  {
   "cell_type": "markdown",
   "id": "2898b98d-c6c6-4059-b043-04c2138ea30d",
   "metadata": {},
   "source": [
    "* (k) CI"
   ]
  },
  {
   "cell_type": "code",
   "execution_count": 204,
   "id": "e1e72057-1686-495e-b2b6-2e085d32dd80",
   "metadata": {},
   "outputs": [
    {
     "data": {
      "text/plain": [
       "array([[1, 0],\n",
       "       [0, 1]])"
      ]
     },
     "execution_count": 204,
     "metadata": {},
     "output_type": "execute_result"
    }
   ],
   "source": [
    "svar24 = C * I\n",
    "svar24"
   ]
  },
  {
   "cell_type": "markdown",
   "id": "f488990f-20e1-41e8-8101-4b023ec49f90",
   "metadata": {},
   "source": [
    "* (l) AB⊤"
   ]
  },
  {
   "cell_type": "code",
   "execution_count": 213,
   "id": "9d221eba-aa79-4b81-bd6d-d278a8122e73",
   "metadata": {},
   "outputs": [
    {
     "data": {
      "text/plain": [
       "array([[5, 2],\n",
       "       [7, 4]])"
      ]
     },
     "execution_count": 213,
     "metadata": {},
     "output_type": "execute_result"
    }
   ],
   "source": [
    "transponera_b = B.T\n",
    "svar25 = np.dot(A, transponera_b)\n",
    "svar25"
   ]
  },
  {
   "cell_type": "markdown",
   "id": "57710fd1-9cc9-4cf2-aee7-a4073e902b52",
   "metadata": {},
   "source": [
    "# Uppgift 10.2.2. Definiera matrisen"
   ]
  },
  {
   "cell_type": "code",
   "execution_count": 240,
   "id": "022d787a-5d8a-441f-8ade-8e577c9a5794",
   "metadata": {},
   "outputs": [
    {
     "data": {
      "text/plain": [
       "array([[2, 3, 4],\n",
       "       [5, 4, 1]])"
      ]
     },
     "execution_count": 240,
     "metadata": {},
     "output_type": "execute_result"
    }
   ],
   "source": [
    "A_A = np.array([[2, 3, 4], [5, 4, 1]])\n",
    "A_A"
   ]
  },
  {
   "cell_type": "markdown",
   "id": "362e16e9-a1a7-44a1-bce7-d0897de673f7",
   "metadata": {},
   "source": [
    "* Beräkna AAT."
   ]
  },
  {
   "cell_type": "code",
   "execution_count": 258,
   "id": "484b2224-7096-42c0-91a9-6d34fc8ce137",
   "metadata": {},
   "outputs": [
    {
     "data": {
      "text/plain": [
       "array([[ 3, 13],\n",
       "       [ 3,  2]])"
      ]
     },
     "execution_count": 258,
     "metadata": {},
     "output_type": "execute_result"
    }
   ],
   "source": [
    "aT = A_A.T\n",
    "svar26 = np.dot(A, aT)\n",
    "svar26"
   ]
  },
  {
   "cell_type": "markdown",
   "id": "b942eb5d-788b-45cc-b04a-947d9837b543",
   "metadata": {},
   "source": [
    "# Uppgift 10.2.3. Definiera matriserna"
   ]
  },
  {
   "cell_type": "code",
   "execution_count": 261,
   "id": "581128ac-3dbe-41bc-a880-dcac04dc216a",
   "metadata": {},
   "outputs": [
    {
     "name": "stdout",
     "output_type": "stream",
     "text": [
      "Matris A:\n",
      " [[1 2]\n",
      " [2 4]]\n",
      "\n",
      "Matris B:\n",
      " [[2 1]\n",
      " [1 3]]\n",
      "\n",
      "Matris C:\n",
      " [[4 3]\n",
      " [0 2]]\n"
     ]
    }
   ],
   "source": [
    "A_A_A = np.array([[1, 2], [2, 4]])\n",
    "B_B_B = np.array([[2, 1], [1, 3]])\n",
    "C_C_C = np.array([[4, 3], [0, 2]])\n",
    "\n",
    "print(\"Matris A:\\n\", A_A_A)\n",
    "print(\"\\nMatris B:\\n\", B_B_B)\n",
    "print(\"\\nMatris C:\\n\", C_C_C)"
   ]
  },
  {
   "cell_type": "code",
   "execution_count": 298,
   "id": "db893bae-a32e-48c2-a3c2-b19baf87c72f",
   "metadata": {},
   "outputs": [
    {
     "name": "stdout",
     "output_type": "stream",
     "text": [
      "Is A equal to B?\n",
      ": [[ True  True]\n",
      " [ True  True]]\n",
      "\n",
      " Is B equal to C?\n",
      ": [[False False]\n",
      " [False False]]\n"
     ]
    }
   ],
   "source": [
    "A_B = np.dot(A_A_A, B_B_B)\n",
    "A_C = np.dot(A_A_A, C_C_C)\n",
    "svar27 = A_B == A_C\n",
    "svar28 = B_B_B == C_C_C\n",
    "print(\"Is A equal to B?\\n:\", svar27)\n",
    "print(\"\\n Is B equal to C?\\n:\", svar28)"
   ]
  },
  {
   "cell_type": "markdown",
   "id": "6a4a524f",
   "metadata": {},
   "source": [
    "### Copies and Views\n",
    "Read the following link: https://numpy.org/doc/stable/user/basics.copies.html"
   ]
  },
  {
   "cell_type": "markdown",
   "id": "6cbbeaf7",
   "metadata": {},
   "source": [
    "**Basic indexing creates a view, How can you check if v1 and v2 is a view or copy? If you change the last element in v2 to 123, will the last element in v1 be changed? Why?**"
   ]
  },
  {
   "cell_type": "code",
   "execution_count": 191,
   "id": "5b9ef4df",
   "metadata": {},
   "outputs": [
    {
     "name": "stdout",
     "output_type": "stream",
     "text": [
      "[0 1 2 3]\n",
      "[2 3]\n"
     ]
    }
   ],
   "source": [
    "v1 = np.arange(4)\n",
    "v2 = v1[-2:]\n",
    "print(v1)\n",
    "print(v2)"
   ]
  },
  {
   "cell_type": "code",
   "execution_count": 193,
   "id": "d2440489",
   "metadata": {},
   "outputs": [
    {
     "name": "stdout",
     "output_type": "stream",
     "text": [
      "None\n",
      "[0 1 2 3]\n"
     ]
    }
   ],
   "source": [
    "# The base attribute of a view returns the original array while it returns None for a copy.\n",
    "print(v1.base)\n",
    "print(v2.base)"
   ]
  },
  {
   "cell_type": "code",
   "execution_count": 195,
   "id": "c8752807",
   "metadata": {},
   "outputs": [
    {
     "name": "stdout",
     "output_type": "stream",
     "text": [
      "[  0   1   2 123]\n",
      "[  2 123]\n"
     ]
    }
   ],
   "source": [
    "# The last element in v1 will be changed aswell since v2 is a view, meaning they share the same data buffer.\n",
    "v2[-1] = 123\n",
    "print(v1)\n",
    "print(v2)"
   ]
  }
 ],
 "metadata": {
  "kernelspec": {
   "display_name": "Python 3 (ipykernel)",
   "language": "python",
   "name": "python3"
  },
  "language_info": {
   "codemirror_mode": {
    "name": "ipython",
    "version": 3
   },
   "file_extension": ".py",
   "mimetype": "text/x-python",
   "name": "python",
   "nbconvert_exporter": "python",
   "pygments_lexer": "ipython3",
   "version": "3.12.7"
  }
 },
 "nbformat": 4,
 "nbformat_minor": 5
}
